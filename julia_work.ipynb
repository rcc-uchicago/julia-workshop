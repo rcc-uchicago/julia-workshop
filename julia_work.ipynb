{
 "cells": [
  {
   "cell_type": "code",
   "execution_count": 1,
   "metadata": {},
   "outputs": [
    {
     "data": {
      "text/plain": [
       "5"
      ]
     },
     "execution_count": 1,
     "metadata": {},
     "output_type": "execute_result"
    }
   ],
   "source": [
    "function myadd(x, y, z...)\n",
    "           if isempty(z)\n",
    "               return x + y\n",
    "           end\n",
    "           return x + myadd(y, z...)\n",
    "       end\n",
    "\n",
    "\n",
    "myadd(1,4)\n",
    "#myadd(1,2,3,4)\n"
   ]
  },
  {
   "cell_type": "code",
   "execution_count": 1,
   "metadata": {},
   "outputs": [
    {
     "data": {
      "text/plain": [
       "change_first_element! (generic function with 1 method)"
      ]
     },
     "execution_count": 1,
     "metadata": {},
     "output_type": "execute_result"
    }
   ],
   "source": [
    "function change_first_element!(arr::Array{T}, val::T) where {T <: Number} \n",
    "    @show T \n",
    "    arr[1] = val\n",
    "end"
   ]
  },
  {
   "cell_type": "code",
   "execution_count": 2,
   "metadata": {},
   "outputs": [
    {
     "data": {
      "text/plain": [
       "3-element Array{Float64,1}:\n",
       " 0.0\n",
       " 0.0\n",
       " 0.0"
      ]
     },
     "execution_count": 2,
     "metadata": {},
     "output_type": "execute_result"
    }
   ],
   "source": [
    "x=zeros(3)"
   ]
  },
  {
   "cell_type": "code",
   "execution_count": 3,
   "metadata": {},
   "outputs": [
    {
     "ename": "LoadError",
     "evalue": "MethodError: no method matching change_first_element!(::Array{Float64,1}, ::Int64)\nClosest candidates are:\n  change_first_element!(::Array{T,N} where N, !Matched::T) where T<:Number at In[1]:1",
     "output_type": "error",
     "traceback": [
      "MethodError: no method matching change_first_element!(::Array{Float64,1}, ::Int64)\nClosest candidates are:\n  change_first_element!(::Array{T,N} where N, !Matched::T) where T<:Number at In[1]:1",
      "",
      "Stacktrace:",
      " [1] top-level scope at In[3]:1",
      " [2] include_string(::Function, ::Module, ::String, ::String) at ./loading.jl:1091"
     ]
    }
   ],
   "source": [
    "change_first_element!(x, 1)"
   ]
  },
  {
   "cell_type": "code",
   "execution_count": 4,
   "metadata": {},
   "outputs": [
    {
     "name": "stdout",
     "output_type": "stream",
     "text": [
      "T = Float64\n"
     ]
    },
    {
     "data": {
      "text/plain": [
       "1.0"
      ]
     },
     "execution_count": 4,
     "metadata": {},
     "output_type": "execute_result"
    }
   ],
   "source": [
    "change_first_element!(x, 1.0)"
   ]
  },
  {
   "cell_type": "code",
   "execution_count": 5,
   "metadata": {},
   "outputs": [
    {
     "data": {
      "text/plain": [
       "3×3 Array{Float64,2}:\n",
       " 1.0  1.0  1.0\n",
       " 1.0  1.0  1.0\n",
       " 1.0  1.0  1.0"
      ]
     },
     "execution_count": 5,
     "metadata": {},
     "output_type": "execute_result"
    }
   ],
   "source": [
    "y = ones(3, 3)"
   ]
  },
  {
   "cell_type": "code",
   "execution_count": 8,
   "metadata": {},
   "outputs": [
    {
     "name": "stdout",
     "output_type": "stream",
     "text": [
      "T = Float64\n"
     ]
    },
    {
     "data": {
      "text/plain": [
       "4.0"
      ]
     },
     "execution_count": 8,
     "metadata": {},
     "output_type": "execute_result"
    }
   ],
   "source": [
    "change_first_element!(y, 4.0)"
   ]
  },
  {
   "cell_type": "code",
   "execution_count": 18,
   "metadata": {},
   "outputs": [],
   "source": [
    "struct Foo \n",
    "       bar \n",
    "       baz::Int \n",
    "       qux::Float64 \n",
    "end"
   ]
  },
  {
   "cell_type": "code",
   "execution_count": 19,
   "metadata": {},
   "outputs": [
    {
     "ename": "LoadError",
     "evalue": "InexactError: Int64(3.4)",
     "output_type": "error",
     "traceback": [
      "InexactError: Int64(3.4)",
      "",
      "Stacktrace:",
      " [1] Int64 at ./float.jl:710 [inlined]",
      " [2] convert at ./number.jl:7 [inlined]",
      " [3] Foo(::Bool, ::Float64, ::Float64) at ./In[18]:2",
      " [4] top-level scope at In[19]:1",
      " [5] include_string(::Function, ::Module, ::String, ::String) at ./loading.jl:1091"
     ]
    }
   ],
   "source": [
    "foo_3 = Foo(false, 3.4, 2.4)"
   ]
  },
  {
   "cell_type": "code",
   "execution_count": 20,
   "metadata": {},
   "outputs": [
    {
     "data": {
      "text/plain": [
       "Foo(false, 3, 2.4)"
      ]
     },
     "execution_count": 20,
     "metadata": {},
     "output_type": "execute_result"
    }
   ],
   "source": [
    "foo_3 = Foo(false, 3, 2.4)"
   ]
  },
  {
   "cell_type": "code",
   "execution_count": 21,
   "metadata": {},
   "outputs": [
    {
     "ename": "LoadError",
     "evalue": "setfield! immutable struct of type Foo cannot be changed",
     "output_type": "error",
     "traceback": [
      "setfield! immutable struct of type Foo cannot be changed",
      "",
      "Stacktrace:",
      " [1] setproperty!(::Foo, ::Symbol, ::Float64) at ./Base.jl:34",
      " [2] top-level scope at In[21]:1",
      " [3] include_string(::Function, ::Module, ::String, ::String) at ./loading.jl:1091"
     ]
    }
   ],
   "source": [
    "foo_3.bar=4.0\n"
   ]
  },
  {
   "cell_type": "code",
   "execution_count": 23,
   "metadata": {},
   "outputs": [],
   "source": [
    "struct OrderedPair\n",
    "           x::Real\n",
    "           y::Real\n",
    "           function OrderedPair(x, y)\n",
    "               x > y && error(\"Arguments out of order.\")\n",
    "               return new(x, y)\n",
    "           end\n",
    "       end\n"
   ]
  },
  {
   "cell_type": "code",
   "execution_count": 24,
   "metadata": {},
   "outputs": [
    {
     "data": {
      "text/html": [
       "# 1 method for type constructor:<ul><li> OrderedPair(x, y) in Main at In[23]:4</li> </ul>"
      ],
      "text/plain": [
       "# 1 method for type constructor:\n",
       "[1] OrderedPair(x, y) in Main at In[23]:4"
      ]
     },
     "execution_count": 24,
     "metadata": {},
     "output_type": "execute_result"
    }
   ],
   "source": [
    "methods(OrderedPair)"
   ]
  },
  {
   "cell_type": "code",
   "execution_count": 25,
   "metadata": {},
   "outputs": [
    {
     "data": {
      "text/plain": [
       "OrderedPair(3, 4)"
      ]
     },
     "execution_count": 25,
     "metadata": {},
     "output_type": "execute_result"
    }
   ],
   "source": [
    "op=OrderedPair(3,4)"
   ]
  },
  {
   "cell_type": "code",
   "execution_count": 26,
   "metadata": {},
   "outputs": [
    {
     "ename": "LoadError",
     "evalue": "Arguments out of order.",
     "output_type": "error",
     "traceback": [
      "Arguments out of order.",
      "",
      "Stacktrace:",
      " [1] error(::String) at ./error.jl:33",
      " [2] OrderedPair(::Int64, ::Int64) at ./In[23]:5",
      " [3] top-level scope at In[26]:1",
      " [4] include_string(::Function, ::Module, ::String, ::String) at ./loading.jl:1091"
     ]
    }
   ],
   "source": [
    "op=OrderedPair(5,4)"
   ]
  },
  {
   "cell_type": "code",
   "execution_count": 27,
   "metadata": {},
   "outputs": [],
   "source": [
    "mutable struct Point{T <: Real}\n",
    "           x::T\n",
    "           y::T\n",
    "       end\n"
   ]
  },
  {
   "cell_type": "code",
   "execution_count": 28,
   "metadata": {},
   "outputs": [
    {
     "data": {
      "text/plain": [
       "Point{Float64}(2.0, 5.0)"
      ]
     },
     "execution_count": 28,
     "metadata": {},
     "output_type": "execute_result"
    }
   ],
   "source": [
    "p1=Point{Float64}(2,5)"
   ]
  },
  {
   "cell_type": "code",
   "execution_count": 29,
   "metadata": {},
   "outputs": [
    {
     "name": "stdout",
     "output_type": "stream",
     "text": [
      "Hello, world."
     ]
    }
   ],
   "source": [
    "write(stdout, \"Hello, world.\");"
   ]
  },
  {
   "cell_type": "code",
   "execution_count": 35,
   "metadata": {},
   "outputs": [
    {
     "data": {
      "text/plain": [
       "IOStream(<file hello.txt>)"
      ]
     },
     "execution_count": 35,
     "metadata": {},
     "output_type": "execute_result"
    }
   ],
   "source": [
    "f = open(\"hello.txt\")"
   ]
  },
  {
   "cell_type": "code",
   "execution_count": 36,
   "metadata": {},
   "outputs": [
    {
     "data": {
      "text/plain": [
       "1-element Array{String,1}:\n",
       " \"Hello, World.\""
      ]
     },
     "execution_count": 36,
     "metadata": {},
     "output_type": "execute_result"
    }
   ],
   "source": [
    "readlines(f)\n"
   ]
  },
  {
   "cell_type": "code",
   "execution_count": 38,
   "metadata": {},
   "outputs": [
    {
     "data": {
      "text/plain": [
       "IOStream(<file hello.txt>)"
      ]
     },
     "execution_count": 38,
     "metadata": {},
     "output_type": "execute_result"
    }
   ],
   "source": [
    "f = open(\"hello.txt\", \"a\")\n",
    "\n"
   ]
  },
  {
   "cell_type": "code",
   "execution_count": 39,
   "metadata": {},
   "outputs": [],
   "source": [
    "write(f, \"Hello again.\\n\");"
   ]
  },
  {
   "cell_type": "code",
   "execution_count": 41,
   "metadata": {},
   "outputs": [
    {
     "data": {
      "text/plain": [
       "25"
      ]
     },
     "execution_count": 41,
     "metadata": {},
     "output_type": "execute_result"
    }
   ],
   "source": [
    "open(\"hello.txt\", \"a\") do f\n",
    "           write(f, \"I lied, one more line...\\n\");\n",
    "       end\n"
   ]
  },
  {
   "cell_type": "code",
   "execution_count": 42,
   "metadata": {},
   "outputs": [
    {
     "data": {
      "text/plain": [
       "Main.MyModule"
      ]
     },
     "execution_count": 42,
     "metadata": {},
     "output_type": "execute_result"
    }
   ],
   "source": [
    "module MyModule\n",
    "       struct MyType\n",
    "           x\n",
    "       end\n",
    "       foo(x) = 2x\n",
    "       const bar = 1.2\n",
    "       end\n"
   ]
  },
  {
   "cell_type": "code",
   "execution_count": 45,
   "metadata": {},
   "outputs": [
    {
     "ename": "LoadError",
     "evalue": "UndefVarError: MyType not defined",
     "output_type": "error",
     "traceback": [
      "UndefVarError: MyType not defined",
      "",
      "Stacktrace:",
      " [1] top-level scope at In[45]:1",
      " [2] include_string(::Function, ::Module, ::String, ::String) at ./loading.jl:1091"
     ]
    }
   ],
   "source": [
    "MyType()\n"
   ]
  },
  {
   "cell_type": "code",
   "execution_count": 46,
   "metadata": {},
   "outputs": [
    {
     "data": {
      "text/plain": [
       "Main.MyModule.MyType(false)"
      ]
     },
     "execution_count": 46,
     "metadata": {},
     "output_type": "execute_result"
    }
   ],
   "source": [
    "MyModule.MyType(false)"
   ]
  },
  {
   "cell_type": "code",
   "execution_count": 47,
   "metadata": {},
   "outputs": [
    {
     "data": {
      "text/plain": [
       "2"
      ]
     },
     "execution_count": 47,
     "metadata": {},
     "output_type": "execute_result"
    }
   ],
   "source": [
    "MyModule.foo(1)"
   ]
  },
  {
   "cell_type": "code",
   "execution_count": 48,
   "metadata": {},
   "outputs": [
    {
     "data": {
      "text/plain": [
       "1.2"
      ]
     },
     "execution_count": 48,
     "metadata": {},
     "output_type": "execute_result"
    }
   ],
   "source": [
    "MyModule.bar"
   ]
  },
  {
   "cell_type": "code",
   "execution_count": 54,
   "metadata": {},
   "outputs": [
    {
     "name": "stderr",
     "output_type": "stream",
     "text": [
      "WARNING: replacing module Parent.\n"
     ]
    },
    {
     "data": {
      "text/plain": [
       "Main.Parent"
      ]
     },
     "execution_count": 54,
     "metadata": {},
     "output_type": "execute_result"
    }
   ],
   "source": [
    "#You can nest modules inside of each other:\n",
    "module Parent\n",
    "       module Utils\n",
    "       double(x) = 2x\n",
    "       end  # module Utils\n",
    "       quadruple(x) = Utils.double(Utils.double(x))\n",
    "    end  # module Parent\n",
    "\n",
    "\n",
    "\n"
   ]
  },
  {
   "cell_type": "code",
   "execution_count": 55,
   "metadata": {},
   "outputs": [
    {
     "data": {
      "text/plain": [
       "8"
      ]
     },
     "execution_count": 55,
     "metadata": {},
     "output_type": "execute_result"
    }
   ],
   "source": [
    "Parent.quadruple(2)"
   ]
  },
  {
   "cell_type": "code",
   "execution_count": 57,
   "metadata": {},
   "outputs": [
    {
     "data": {
      "text/plain": [
       "Main.ParentImport"
      ]
     },
     "execution_count": 57,
     "metadata": {},
     "output_type": "execute_result"
    }
   ],
   "source": [
    "# There are also two keywords for loading modules as libraries. Observe the behavior of the following two cases:\n",
    "\n",
    "module ParentImport\n",
    "       module Utils\n",
    "       double(x) = 2x\n",
    "       end  # module Utils\n",
    "       module Useful\n",
    "       import ..Utils\n",
    "       quadruple(x) = Utils.double(Utils.double(x))\n",
    "       end\n",
    "end \n",
    "\n"
   ]
  },
  {
   "cell_type": "code",
   "execution_count": 58,
   "metadata": {},
   "outputs": [
    {
     "data": {
      "text/plain": [
       "Main.ParentUsing"
      ]
     },
     "execution_count": 58,
     "metadata": {},
     "output_type": "execute_result"
    }
   ],
   "source": [
    "module ParentUsing\n",
    "       module Utils\n",
    "       double(x) = 2x\n",
    "       export double\n",
    "       end  # module Utils\n",
    "       using .Utils\n",
    "       quadruple(x) = double(double(x))\n",
    "   end \n"
   ]
  },
  {
   "cell_type": "code",
   "execution_count": 60,
   "metadata": {},
   "outputs": [
    {
     "data": {
      "text/plain": [
       "4×6 SparseMatrixCSC{Float64,Int64} with 8 stored entries:\n",
       "  [1, 1]  =  0.969933\n",
       "  [1, 2]  =  0.42462\n",
       "  [2, 2]  =  0.482595\n",
       "  [3, 3]  =  0.953901\n",
       "  [2, 4]  =  0.221671\n",
       "  [3, 4]  =  0.974508\n",
       "  [3, 5]  =  0.00509282\n",
       "  [4, 6]  =  0.616632"
      ]
     },
     "execution_count": 60,
     "metadata": {},
     "output_type": "execute_result"
    }
   ],
   "source": [
    "using SparseArrays\n",
    "I = [1, 1, 2, 2, 3, 3, 3, 4];\n",
    "J = [1, 2, 2, 4, 3, 4, 5, 6];\n",
    "V = rand(8);\n",
    "D = sparse(I, J, V)\n"
   ]
  },
  {
   "cell_type": "code",
   "execution_count": 62,
   "metadata": {},
   "outputs": [],
   "source": [
    "# `sum`: An easy enough function to understand\n"
   ]
  },
  {
   "cell_type": "code",
   "execution_count": 65,
   "metadata": {},
   "outputs": [
    {
     "name": "stderr",
     "output_type": "stream",
     "text": [
      "┌ Info: Precompiling BenchmarkTools [6e4b80f9-dd63-53aa-95a3-0cdb28fa8baf]\n",
      "└ @ Base loading.jl:1278\n"
     ]
    },
    {
     "data": {
      "text/plain": [
       "10000000-element Array{Float64,1}:\n",
       " 0.8902569661528372\n",
       " 0.41063690818834164\n",
       " 0.629829161071565\n",
       " 0.6369086795619736\n",
       " 0.5703239451351725\n",
       " 0.2461176187505283\n",
       " 0.41987638398847316\n",
       " 0.27018685922541197\n",
       " 0.8196681437711337\n",
       " 0.06070863541874916\n",
       " 0.933240081147207\n",
       " 0.7015046816846569\n",
       " 0.409073174928793\n",
       " ⋮\n",
       " 0.9129015467379547\n",
       " 0.3821911401236133\n",
       " 0.8894074873385913\n",
       " 0.0338593812978516\n",
       " 0.30172054581233865\n",
       " 0.5424132842893878\n",
       " 0.8477550066296968\n",
       " 0.8721046831441033\n",
       " 0.6822314139547909\n",
       " 0.9590110111474743\n",
       " 0.5822799302072093\n",
       " 0.5339827158387864"
      ]
     },
     "execution_count": 65,
     "metadata": {},
     "output_type": "execute_result"
    }
   ],
   "source": [
    "using BenchmarkTools\n",
    "a=rand(10^7)"
   ]
  },
  {
   "cell_type": "code",
   "execution_count": 67,
   "metadata": {},
   "outputs": [
    {
     "name": "stdout",
     "output_type": "stream",
     "text": [
      "  0.005151 seconds (1 allocation: 16 bytes)\n"
     ]
    },
    {
     "data": {
      "text/plain": [
       "5.000608695452001e6"
      ]
     },
     "execution_count": 67,
     "metadata": {},
     "output_type": "execute_result"
    }
   ],
   "source": [
    "@time sum(a)"
   ]
  },
  {
   "cell_type": "code",
   "execution_count": 68,
   "metadata": {},
   "outputs": [
    {
     "data": {
      "text/plain": [
       "mysum_fast (generic function with 1 method)"
      ]
     },
     "execution_count": 68,
     "metadata": {},
     "output_type": "execute_result"
    }
   ],
   "source": [
    "function mysum_fast(A)\n",
    "    s = 0.0\n",
    "    for a in A\n",
    "        @fastmath s += a\n",
    "    end\n",
    "    s\n",
    "end"
   ]
  },
  {
   "cell_type": "code",
   "execution_count": 72,
   "metadata": {},
   "outputs": [
    {
     "data": {
      "text/plain": [
       "BenchmarkTools.Trial: \n",
       "  memory estimate:  0 bytes\n",
       "  allocs estimate:  0\n",
       "  --------------\n",
       "  minimum time:     4.400 ms (0.00% GC)\n",
       "  median time:      4.940 ms (0.00% GC)\n",
       "  mean time:        4.947 ms (0.00% GC)\n",
       "  maximum time:     5.457 ms (0.00% GC)\n",
       "  --------------\n",
       "  samples:          1011\n",
       "  evals/sample:     1"
      ]
     },
     "execution_count": 72,
     "metadata": {},
     "output_type": "execute_result"
    }
   ],
   "source": [
    "j_fast = @benchmark mysum_fast($a)"
   ]
  },
  {
   "cell_type": "code",
   "execution_count": 70,
   "metadata": {},
   "outputs": [
    {
     "data": {
      "text/plain": [
       "mysum_noassoc (generic function with 1 method)"
      ]
     },
     "execution_count": 70,
     "metadata": {},
     "output_type": "execute_result"
    }
   ],
   "source": [
    "function mysum_noassoc(A)\n",
    "    s = 0.0\n",
    "    for a in A\n",
    "         s += a\n",
    "    end\n",
    "    s\n",
    "end"
   ]
  },
  {
   "cell_type": "code",
   "execution_count": 73,
   "metadata": {},
   "outputs": [
    {
     "data": {
      "text/plain": [
       "BenchmarkTools.Trial: \n",
       "  memory estimate:  0 bytes\n",
       "  allocs estimate:  0\n",
       "  --------------\n",
       "  minimum time:     11.595 ms (0.00% GC)\n",
       "  median time:      11.770 ms (0.00% GC)\n",
       "  mean time:        11.781 ms (0.00% GC)\n",
       "  maximum time:     13.903 ms (0.00% GC)\n",
       "  --------------\n",
       "  samples:          425\n",
       "  evals/sample:     1"
      ]
     },
     "execution_count": 73,
     "metadata": {},
     "output_type": "execute_result"
    }
   ],
   "source": [
    "j_slow = @benchmark mysum_noassoc($a)"
   ]
  },
  {
   "cell_type": "code",
   "execution_count": null,
   "metadata": {},
   "outputs": [],
   "source": []
  }
 ],
 "metadata": {
  "kernelspec": {
   "display_name": "JuliaPro_v1.5.1-1 1.5.1",
   "language": "julia",
   "name": "juliapro_v1.5.1-1-1.5"
  },
  "language_info": {
   "file_extension": ".jl",
   "mimetype": "application/julia",
   "name": "julia",
   "version": "1.5.1"
  }
 },
 "nbformat": 4,
 "nbformat_minor": 4
}
